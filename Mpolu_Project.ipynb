{
 "metadata": {
  "name": "",
  "signature": "sha256:6b3dc8a2dc725ac77ed6dcdf9b711899be0245437901917c8ec4d5d685694f1a"
 },
 "nbformat": 3,
 "nbformat_minor": 0,
 "worksheets": [
  {
   "cells": [
    {
     "cell_type": "code",
     "collapsed": false,
     "input": [
      "\n",
      "%matplotlib inline\n",
      "\n",
      "import json\n",
      "import requests\n",
      "import pandas as pd\n",
      "import numpy as np\n",
      "import matplotlib.pyplot as plt\n",
      "from io import StringIO  \n",
      "from sklearn.cross_validation import train_test_split\n",
      "from sklearn.naive_bayes import MultinomialNB\n",
      "from sklearn.feature_extraction.text import CountVectorizer\n",
      "from sklearn.cross_validation import KFold\n",
      "from sklearn.metrics import accuracy_score, precision_score, recall_score\n",
      "from sklearn import svm\n",
      "plt.show()"
     ],
     "language": "python",
     "metadata": {},
     "outputs": [],
     "prompt_number": 58
    },
    {
     "cell_type": "code",
     "collapsed": false,
     "input": [
      "\n",
      "\"\"\"Get MovieLens Dataset\"\"\"\n",
      "\n",
      "movie_txt = requests.get('https://raw.github.com/cs109/cs109_data/master/movies.dat').text\n",
      "movie_file = StringIO(movie_txt) # treat a string like a file\n",
      "movies = pd.read_csv(movie_file, delimiter='\\t')\n",
      "#print the first row\n",
      "print movies[['id', 'title', 'imdbID', 'year']].irow(0)\n"
     ],
     "language": "python",
     "metadata": {},
     "outputs": [],
     "prompt_number": 59
    },
    {
     "cell_type": "code",
     "collapsed": false,
     "input": [
      "\"\"\" To retrieve reviews for the first 3,000 movies in the movies dataframe\"\"\"\n",
      "\n",
      "api_key = '53vn7rvf4kwa7tcrtmkt67wp'\n",
      "\n",
      "\n",
      "def base_url():\n",
      "    return 'http://api.rottentomatoes.com/api/public/v1.0/'\n",
      "\n",
      "def rt_id_by_imdb(imdb):\n",
      "    # construct movie alias API url\n",
      "    url = base_url() + 'movie_alias.json'\n",
      "    \n",
      "    imdb = \"%7.7i\" % imdb\n",
      "    params = dict(id=imdb, type='imdb', apikey=api_key)\n",
      "    \n",
      "    r = requests.get(url, params=params).text\n",
      "    r = json.loads(r)\n",
      "    \n",
      "    return r['id']\n",
      "\n",
      "\n",
      "def _imdb_review(imdb):\n",
      "    \"\"\"\n",
      "    Query the RT reviews API, to return the first page of reviews \n",
      "    for a movie specified by its IMDB ID\n",
      "    \n",
      "    Returns a list of dicts\n",
      "    \"\"\"    \n",
      "    rtid = rt_id_by_imdb(imdb)\n",
      "    # construct movie reviews API url\n",
      "    url = base_url() + 'movies/{0}/reviews.json'.format(rtid)\n",
      "    \n",
      "    # assemble dict of all review elements we want\n",
      "    # append to output list\n",
      "\n",
      "    params = dict(review_type='top_critic',\n",
      "                  page_limit=20,\n",
      "                  page=1,\n",
      "                  country='us',\n",
      "                  apikey=api_key)\n",
      "    data = json.loads(requests.get(url, params=params).text)\n",
      "    data = data['reviews']\n",
      "    data = [dict(fresh=r['freshness'], \n",
      "                 quote=r['quote'], \n",
      "                 critic=r['critic'], \n",
      "                 publication=r['publication'], \n",
      "                 review_date=r['date'],\n",
      "                 imdb=imdb, rtid=rtid\n",
      "                 ) for r in data]\n",
      "    return data\n",
      "\n",
      "def fetch_reviews(movies, row):\n",
      "    m = movies.irow(row)\n",
      "    try:\n",
      "        result = pd.DataFrame(_imdb_review(m['imdbID']))\n",
      "        result['title'] = m['title']\n",
      "    except KeyError:\n",
      "        return None\n",
      "    return result\n",
      "\n",
      "def build_table(movies, rows):\n",
      "    # grab df for movie r\n",
      "    dfs = [fetch_reviews(movies, r) for r in range(rows)]\n",
      "    # check to see if we actually get a df back\n",
      "    dfs = [d for d in dfs if d is not None]\n",
      "    # compile as single df, return\n",
      "    return pd.concat(dfs, ignore_index=True)\n",
      "\n",
      "#critics2 = build_table(movies, 3000)\n",
      "#critics2.to_csv('critics2.csv', index=False)\n",
      "critics = pd.read_csv('critics2.csv')\n",
      "\n",
      "#Drop rows with missing data\n",
      "critics = critics[~critics.quote.isnull()]\n",
      "critics = critics[critics.fresh != 'none']\n",
      "#critics = critics[critics.quote.str.len() > 0]\n",
      "\n",
      "num_critics = critics[['critic']].drop_duplicates().shape[0]\n",
      "num_movies = critics[['title']].drop_duplicates().shape[0]\n",
      "num_reviews = critics.shape[0]\n",
      "\n",
      "print 'number of critics:', num_critics\n",
      "print 'number of movies:', num_movies\n",
      "print 'number of reviews:', num_reviews"
     ],
     "language": "python",
     "metadata": {},
     "outputs": [
      {
       "output_type": "stream",
       "stream": "stdout",
       "text": [
        "number of critics: 678\n",
        "number of movies: 1394\n",
        "number of reviews: 12699\n"
       ]
      }
     ],
     "prompt_number": 60
    },
    {
     "cell_type": "code",
     "collapsed": false,
     "input": [
      "\n",
      "\"\"\"Build a bag-of-words training set for the review data\"\"\"\n",
      "\n",
      "def make_xy(critics, vectorizer=None):  \n",
      "\n",
      "    X = []\n",
      "    Y = []\n",
      "    \n",
      "    # if no vectorizer is passed to function, create one with min_df=0\n",
      "    if vectorizer == None:\n",
      "        \n",
      "        vectorizer = CountVectorizer(min_df=0)\n",
      "    \n",
      "    # fit vectorizer to entire quote repertoire\n",
      "    vectorizer.fit(critics.quote)\n",
      "    # make bag of words from quotes\n",
      "    X = vectorizer.transform(critics.quote)\n",
      "    \n",
      "    # convert fresh/rotten (strings) to 1/0 ints\n",
      "    for idx, q in enumerate(critics['quote']):\n",
      "        \n",
      "        fresh = critics['fresh'].irow(idx)\n",
      "        if fresh == 'fresh':\n",
      "            val = 1\n",
      "        elif fresh == 'rotten':\n",
      "            val = 0\n",
      "        Y.append(val)\n",
      "    \n",
      "    return X,np.asarray(Y)\n",
      "\n",
      "X, Y = make_xy(critics)\n"
     ],
     "language": "python",
     "metadata": {},
     "outputs": [],
     "prompt_number": 61
    },
    {
     "cell_type": "code",
     "collapsed": false,
     "input": [
      "X_train, X_test, Y_train, Y_test = train_test_split(X, Y,train_size=0.75) \n",
      "\n",
      "clf = MultinomialNB()\n",
      "clf.fit(X_train, Y_train)\n",
      "ypred = clf.predict(X_test)\n",
      "\n",
      "#accuracy on the test and training dataset\n",
      "\n",
      "print 'Classifier accuracy for test data:', round(clf.score(X_test, Y_test),2)\n",
      "print 'Classifier accuracy for training data:', round(clf.score(X_train, Y_train), 2)\n",
      "\n",
      "\n",
      "#print 'Classifier accuracy for test data:', round(accuracy_score(Y_test, ypred),2)\n",
      "print 'Classifier precision for test data:', round(precision_score(Y_test, ypred),2)\n",
      "print 'Classifier recall for test data:', round(recall_score(Y_test, ypred),2)"
     ],
     "language": "python",
     "metadata": {},
     "outputs": [
      {
       "output_type": "stream",
       "stream": "stdout",
       "text": [
        "Classifier accuracy for test data: 0.77\n",
        "Classifier accuracy for training data: 0.93\n",
        "Classifier precision for test data: 0.78\n",
        "Classifier recall for test data: 0.84\n"
       ]
      }
     ],
     "prompt_number": 62
    },
    {
     "cell_type": "code",
     "collapsed": false,
     "input": [
      "\n",
      "def calibration_plot(clf, X, Y):\n",
      "    \n",
      "    # split up data into train/test\n",
      "    X_train, X_test, Y_train, Y_test = train_test_split(X, Y, test_size=0.25)\n",
      "    # train classifier\n",
      "    clf.fit(X_train, Y_train)\n",
      "    \n",
      "    # announce how we're doing\n",
      "    print 'Classifier accuracy for training data: '+str(round(clf.score(X_train, Y_train), 2))\n",
      "    print 'Classifier accuracy for test data: '+str(round(clf.score(X_test, Y_test),2))\n",
      "    \n",
      "    # the rest is old (y-)hat.\n",
      "    rotten, fresh = zip(*clf.predict_proba(X_train))\n",
      "\n",
      "    bins = np.linspace(0,1,20)\n",
      "    bin_places = np.digitize(fresh, bins)\n",
      "            \n",
      "    prob_df = pd.DataFrame({'xtrain_prob':fresh, 'ytrain':Y_train, 'bin_place':bin_places})\n",
      "    \n",
      "    grouped_df = prob_df.groupby('bin_place')\n",
      "    freshs = grouped_df['ytrain']\n",
      "    \n",
      "    fresh_fracs = []\n",
      "    fresh_sigmas = []\n",
      "    bin_totals = grouped_df.size().values\n",
      "    \n",
      "    for c, freshval in freshs:\n",
      "        \n",
      "        fsum = np.sum(freshval.values.astype(int))\n",
      "        \n",
      "        fresh_frac = round(float(fsum)/float(bin_totals[c-1]), 3)\n",
      "        \n",
      "        fresh_fracs.append(fresh_frac)\n",
      "        fresh_sigma = sqrt(fresh_frac*(1-fresh_frac)/bin_totals[c-1])\n",
      "        fresh_sigmas.append(fresh_sigma)\n",
      "        \n",
      "    fig3 = plt.figure()\n",
      "    \n",
      "    ax_top = fig3.add_subplot(2,1,1)\n",
      "    ax_top.plot(bins[1:20], fresh_fracs)\n",
      "    ax_top.errorbar(bins[1:20], fresh_fracs, yerr=fresh_sigmas, fmt='ro')\n",
      "    \n",
      "    ax_top.plot(fresh_fracs, fresh_fracs, c='r')\n",
      "    ax_top.set_xticks(np.arange(0,1.1,.05))\n",
      "    ax_top.set_xticklabels(np.arange(0,1.1,.05), rotation='vertical')\n",
      "    ax_top.set_yticks(np.arange(0,1.2,.1))\n",
      "    ax_bot = fig3.add_subplot(2,1,2)\n",
      "    ax_bot.bar(range(len(bin_totals)), bin_totals, .5)\n",
      "    \n",
      "    ax_bot.set_xticks(range(20))\n",
      "    \n",
      "    plt.subplots_adjust(top=1.5)\n",
      "    plt.subplots_adjust(bottom=.5)\n"
     ],
     "language": "python",
     "metadata": {},
     "outputs": [],
     "prompt_number": 63
    },
    {
     "cell_type": "code",
     "collapsed": false,
     "input": [
      "clf = MultinomialNB()\n",
      "calibration_plot(clf, X, Y)\n"
     ],
     "language": "python",
     "metadata": {},
     "outputs": [
      {
       "output_type": "stream",
       "stream": "stdout",
       "text": [
        "Classifier accuracy for training data: 0.93\n",
        "Classifier accuracy for test data: 0.77\n"
       ]
      },
      {
       "metadata": {},
       "output_type": "display_data",
       "png": "[encoded data removed]",
       "text": [
        "<matplotlib.figure.Figure at 0x19f3be80>"
       ]
      }
     ],
     "prompt_number": 64
    },
    {
     "cell_type": "code",
     "collapsed": false,
     "input": [
      "\"\"\"using cross-validation to choose appropriate values for these parameters min_def,alpha \n",
      "    to limit overfiting.\"\"\"\n",
      "\n",
      "def log_likelihood(clf, x, y):\n",
      "    \n",
      "    # get log probabilities\n",
      "    logps = clf.predict_log_proba(x)\n",
      "    \n",
      "    # initialize storage lists\n",
      "    fresh = []\n",
      "    rotten = []\n",
      "    \n",
      "    # divide up probabilities based on whether Y is actually fresh or rotten\n",
      "    for idx, p in enumerate(logps):\n",
      "        \n",
      "        if y[idx] == 1:\n",
      "            \n",
      "            fresh.append(p[1])\n",
      "        \n",
      "        elif y[idx] == 0:\n",
      "            \n",
      "            rotten.append(p[0])\n",
      "    \n",
      "    # compute log likelihood\n",
      "    L = sum(fresh) + sum(rotten)\n",
      "\n",
      "    return L\n",
      "\n",
      "#print 'Log likelihood of train data: '+ str(log_likelihood(clf, X_train, Y_train))\n",
      "#print 'Log likelihood of train data: '+ str(log_likelihood(clf, X_test, Y_test))\n"
     ],
     "language": "python",
     "metadata": {},
     "outputs": [],
     "prompt_number": 65
    },
    {
     "cell_type": "code",
     "collapsed": false,
     "input": [
      "def cv_score(clf, x, y, score_func):\n",
      "    result = 0\n",
      "    nfold = 5\n",
      "    for train, test in KFold(y.size, nfold): # split data into train/test groups, 5 times\n",
      "        clf.fit(x[train], y[train]) # fit\n",
      "        result += score_func(clf, x[test], y[test]) # evaluate score function on held-out data\n",
      "    return result / nfold # average\n"
     ],
     "language": "python",
     "metadata": {},
     "outputs": [],
     "prompt_number": 66
    },
    {
     "cell_type": "code",
     "collapsed": false,
     "input": [
      "alphas = [0, .1, 1, 5, 10, 50]\n",
      "min_dfs = [1e-5, 1e-4, 1e-3, 1e-2, 1e-1]\n",
      "\n",
      "#Find the best value for alpha and min_df, and the best classifier\n",
      "best_alpha = None\n",
      "best_min_df = None\n",
      "max_loglike = -np.inf\n",
      "\n",
      "for alpha in alphas:\n",
      "    for min_df in min_dfs:         \n",
      "        vectorizer = CountVectorizer(min_df = min_df)       \n",
      "        X, Y = make_xy(critics, vectorizer)\n",
      "        \n",
      "        X_train, X_test, Y_train, Y_test = train_test_split(X,Y)\n",
      "        \n",
      "        # try with each alpha\n",
      "        clf = MultinomialNB(alpha=alpha)\n",
      "\n",
      "        this_loglike = cv_score(clf, X_train, Y_train, log_likelihood)\n",
      "        \n",
      "        # test\n",
      "        # print 'this df: '+str(min_df)+ ' vs best min df: '+str(best_min_df)\n",
      "        # print 'this alpha: '+str(alpha)+ ' vs best alpha: '+str(best_alpha)\n",
      "        # print 'this log: '+str(this_loglike)+' vs best log: '+str(max_loglike)\n",
      "        \n",
      "        # if our loglike is better than the reigning champ, replace it along with alpha and min_df\n",
      "        if this_loglike > max_loglike:\n",
      "            \n",
      "            max_loglike = this_loglike\n",
      "            best_alpha = alpha\n",
      "            best_min_df = min_df\n",
      "print \"alpha: %f\" % best_alpha\n",
      "print \"min_df: %f\" % best_min_df"
     ],
     "language": "python",
     "metadata": {},
     "outputs": [
      {
       "output_type": "stream",
       "stream": "stdout",
       "text": [
        "alpha: 5.000000\n",
        "min_df: 0.001000\n"
       ]
      }
     ],
     "prompt_number": 67
    },
    {
     "cell_type": "code",
     "collapsed": false,
     "input": [
      "X, Y = make_xy(critics, CountVectorizer(min_df=best_min_df))\n",
      "\n",
      "X_train, X_test, Y_train, Y_test = train_test_split(X, Y)\n",
      "clf = MultinomialNB(alpha=best_alpha).fit(X_train, Y_train)\n",
      "\n",
      "\n",
      "print 'Classifier accuracy for training data: '+str(round(clf.score(X_train, Y_train), 2))\n",
      "print 'Classifier accuracy for test data: '+str(round(clf.score(X_test, Y_test),2))\n"
     ],
     "language": "python",
     "metadata": {},
     "outputs": [
      {
       "output_type": "stream",
       "stream": "stdout",
       "text": [
        "Classifier accuracy for training data: 0.79\n",
        "Classifier accuracy for test data: 0.73\n"
       ]
      }
     ],
     "prompt_number": 68
    },
    {
     "cell_type": "code",
     "collapsed": false,
     "input": [
      "X, Y = make_xy(critics, CountVectorizer(min_df=.001))\n",
      "clf = MultinomialNB(alpha=5)\n",
      "calibration_plot(clf, X, Y)\n"
     ],
     "language": "python",
     "metadata": {},
     "outputs": [
      {
       "output_type": "stream",
       "stream": "stdout",
       "text": [
        "Classifier accuracy for training data: 0.79\n",
        "Classifier accuracy for test data: 0.73\n"
       ]
      },
      {
       "metadata": {},
       "output_type": "display_data",
       "png": "[encoded data removed]",
       "text": [
        "<matplotlib.figure.Figure at 0xbaa77b8>"
       ]
      }
     ],
     "prompt_number": 69
    },
    {
     "cell_type": "code",
     "collapsed": false,
     "input": [
      "scores=[] \n",
      "for train, test in KFold(Y.size,5): \n",
      "    Xtrain, Xtest, Ytrain, Ytest = X[train], X[test], Y[train], Y[test] \n",
      "    clf = MultinomialNB(alpha=best_alpha) \n",
      "    clf.fit(Xtrain, Ytrain) \n",
      "    ypred = clf.predict(Xtest) \n",
      "    accuracy = accuracy_score(Ytest, ypred) \n",
      "    precision = precision_score(Ytest, ypred) \n",
      "    recall = recall_score(Ytest, ypred) \n",
      "    scores.append((accuracy, precision, recall)) \n",
      "print \"NB Accuracy: \" + str(round(np.mean([x[0] for x in scores]),2))\n",
      "print \"NB Precision: \" + str(round(np.mean([x[1] for x in scores]),2))\n",
      "print \"NB Recall: \" + str(round(np.mean([x[2] for x in scores]),2))\n"
     ],
     "language": "python",
     "metadata": {},
     "outputs": [
      {
       "output_type": "stream",
       "stream": "stdout",
       "text": [
        "NB Accuracy: 0.73\n",
        "NB Precision: 0.76\n",
        "NB Recall: 0.8\n"
       ]
      }
     ],
     "prompt_number": 70
    },
    {
     "cell_type": "code",
     "collapsed": false,
     "input": [
      "\"\"\"SVM Classifier\"\"\"\n",
      "scores=[] \n",
      "for train, test in KFold(Y.size,5): \n",
      "    Xtrain, Xtest, Ytrain, Ytest = X[train], X[test], Y[train], Y[test] \n",
      "    classifier_linear = svm.SVC(kernel='linear')\n",
      "    classifier_linear.fit(X_train, Y_train)\n",
      "    ypred = clf.predict(Xtest) \n",
      "    accuracy = accuracy_score(Ytest, ypred) \n",
      "    precision = precision_score(Ytest, ypred) \n",
      "    recall = recall_score(Ytest, ypred) \n",
      "    scores.append((accuracy, precision, recall)) \n",
      "print \"SVM Accuracy: \" + str(round(np.mean([x[0] for x in scores]),2))\n",
      "print \"SVM Precision: \" + str(round(np.mean([x[1] for x in scores]),2))\n",
      "print \"SVM Recall: \" + str(round(np.mean([x[2] for x in scores]),2))\n"
     ],
     "language": "python",
     "metadata": {},
     "outputs": [
      {
       "output_type": "stream",
       "stream": "stdout",
       "text": [
        "SVM Accuracy: 0.78\n",
        "SVM Precision: 0.78\n",
        "SVM Recall: 0.85\n"
       ]
      }
     ],
     "prompt_number": 71
    },
    {
     "cell_type": "code",
     "collapsed": false,
     "input": [
      "vectorizer = CountVectorizer(min_df=0.001)       \n",
      "X, Y = make_xy(critics, vectorizer)\n",
      "#X_train, X_test, Y_train, Y_test = train_test_split(X, Y)\n",
      "# get words\n",
      "features = vectorizer.get_feature_names()\n",
      "# create I-matrix ... each row only has one word in it (and there's a row for every word in the original bag)\n",
      "eyematrix = np.eye(len(features))\n",
      "# compute per-word probability by running I-matrix through our classifier\n",
      "perword_proba = clf.predict_proba(eyematrix)\n",
      "\n",
      "# split into rotten, fresh \n",
      "perword_rot, perword_fresh = zip(*perword_proba)\n",
      "# make dict with rotten, fresh probs plus actual word\n",
      "perword_dict = {'word':features, 'prob rotten':perword_rot, 'prob fresh':perword_fresh}\n",
      "# convert to df for easier processing\n",
      "perword_df = pd.DataFrame(data = perword_dict)\n",
      "\n",
      "# sort each in descending order, grab top 10, print\n",
      "print 'Top 10 Positive Predictor Words: \\n', perword_df.sort(columns='prob fresh', \n",
      "                                                             ascending=False).iloc[1:10,[2,0]],'\\n'\n",
      "\n",
      "print 'Top 10 Negative Predictor Words: \\n', perword_df.sort(columns='prob rotten',\n",
      "                                                             ascending=False).iloc[1:10,[2,1]]\n"
     ],
     "language": "python",
     "metadata": {},
     "outputs": [
      {
       "output_type": "stream",
       "stream": "stdout",
       "text": [
        "Top 10 Positive Predictor Words: \n",
        "             word  prob fresh\n",
        "814      greatest    0.888265\n",
        "1463         rare    0.885562\n",
        "1126  masterpiece    0.856891\n",
        "1797     succeeds    0.849720\n",
        "1928     touching    0.849720\n",
        "464       delight    0.849720\n",
        "1377     pleasure    0.848065\n",
        "13      absorbing    0.845685\n",
        "227   brilliantly    0.845685 \n",
        "\n",
        "Top 10 Negative Predictor Words: \n",
        "               word  prob rotten\n",
        "1982        unfunny     0.841795\n",
        "1981  unfortunately     0.823957\n",
        "537            dull     0.805390\n",
        "248           cable     0.797629\n",
        "1387      pointless     0.789223\n",
        "1985    uninvolving     0.780088\n",
        "1912       tiresome     0.780088\n",
        "1864          tepid     0.770126\n",
        "528    dramatically     0.766602\n"
       ]
      }
     ],
     "prompt_number": 72
    },
    {
     "cell_type": "code",
     "collapsed": false,
     "input": [],
     "language": "python",
     "metadata": {},
     "outputs": [],
     "prompt_number": 72
    }
   ],
   "metadata": {}
  }
 ]
}